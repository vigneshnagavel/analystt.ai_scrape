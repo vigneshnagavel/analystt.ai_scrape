def listitems(item):
    atag = item.h2.a
    description = atag.text.strip()
    item_url = "http://www.amazon.com" + atag.get("href")
    try:
        price = item.find("span","a-offscreen").text
    except AttributeError:
        price = "not available"
    try:
        rating = item.i.text
        reviews = item.find("span","a-size-base s-underline-text").text
    except AttributeError:
        rating = ""
        reviews = ""
    
    result = (description,price,rating,reviews,item_url)
    
    return result
record = []
def main():
    for i in range(1,21):
        url = "https://www.amazon.in/s?k=bags&page="+str(i)+"&crid=2M096C61O4MLT&qid=1663860101&sprefix=ba%2Caps%2C283&ref=sr_pg_2"
        driver.get(url)
        soup = BeautifulSoup(driver.page_source,"html.parser")
        

        results = soup.find_all("div",{"data-component-type":"s-search-result"})

        for item in results:
            record.append(listitems(item))
        driver.close()
    with open("results.csv","w",newline="",encoding="utf-8") as f:
        writer = csv.writer(f)
        writer.writerow(["Description","Price","Rating","Reviews","URL"])
        writer.writerow(record)
main()
